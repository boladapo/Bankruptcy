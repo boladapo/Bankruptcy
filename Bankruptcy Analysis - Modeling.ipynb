{
 "cells": [
  {
   "cell_type": "code",
   "execution_count": 437,
   "metadata": {},
   "outputs": [],
   "source": [
    "import pandas as pd\n",
    "import numpy as np\n",
    "from collections import Counter\n",
    "\n",
    "import seaborn as sns\n",
    "import matplotlib.pyplot as plt\n",
    "%matplotlib inline\n",
    "\n",
    "from sklearn.model_selection import train_test_split, GridSearchCV\n",
    "from sklearn.linear_model import LogisticRegression\n",
    "from sklearn.neighbors import KNeighborsClassifier\n",
    "from sklearn.metrics import precision_score, recall_score, precision_recall_curve, f1_score, fbeta_score, confusion_matrix, roc_auc_score, roc_curve, log_loss\n",
    "from sklearn.preprocessing import StandardScaler, MinMaxScaler\n",
    "from sklearn.naive_bayes import GaussianNB\n",
    "from sklearn import svm\n",
    "from sklearn.tree import DecisionTreeClassifier\n",
    "from sklearn.ensemble import RandomForestClassifier\n",
    "from sklearn.feature_selection import SelectKBest, chi2\n",
    "from sklearn.model_selection import cross_val_score\n",
    "\n",
    "from xgboost import XGBClassifier\n",
    "\n",
    "from imblearn.over_sampling import RandomOverSampler, SMOTE\n",
    "\n",
    "np.set_printoptions(suppress=True) # Suppress scientific notation where possible\n",
    "pd.set_option('display.max_rows', 70)\n"
   ]
  },
  {
   "cell_type": "code",
   "execution_count": 438,
   "metadata": {},
   "outputs": [],
   "source": [
    "# read in pickled data\n",
    "X_train, X_test = pd.read_pickle('pickle/xtrain.pkl'), pd.read_pickle('pickle/xtest.pkl')\n",
    "y_train, y_test = pd.read_pickle('pickle/ytrain.pkl'), pd.read_pickle('pickle/ytest.pkl')\n",
    "\n",
    "X_train_scaled, X_test_scaled = pd.read_pickle('pickle/xtrain_scaled.pkl'), pd.read_pickle('pickle/xtest_scaled.pkl')\n",
    "y_train_scaled = y_train"
   ]
  },
  {
   "cell_type": "code",
   "execution_count": 439,
   "metadata": {},
   "outputs": [],
   "source": [
    "include_in_model = ['X56','X55','X40','X27','X13','X26','X39','X16','X34','X35','X41','X46','X21','X38']\n",
    "#                  ['X39','X21','X29','X35','X27','X22','X6','X46','X45','X34','X14','X38','X57','X11']\n",
    "X_train = X_train[include_in_model]\n",
    "X_test = X_test[include_in_model]\n",
    "X_train_scaled = X_train_scaled[include_in_model]\n",
    "X_test_scaled = X_test_scaled[include_in_model]"
   ]
  },
  {
   "cell_type": "code",
   "execution_count": 440,
   "metadata": {},
   "outputs": [],
   "source": [
    "data = X_train.append(X_test)"
   ]
  },
  {
   "cell_type": "code",
   "execution_count": 441,
   "metadata": {},
   "outputs": [],
   "source": [
    "# addressing imbalance in the target variable\n",
    "# X_train, y_train = SMOTE(random_state=42).fit_sample(X_train,y_train)\n",
    "# X_train_scaled, y_train_scaled = SMOTE(random_state=42).fit_sample(X_train_scaled,y_train_scaled)"
   ]
  },
  {
   "cell_type": "code",
   "execution_count": 442,
   "metadata": {},
   "outputs": [],
   "source": [
    "lr_params = {'C': [0.001, 0.01, 0.1, 1, 10, 100, 1000]}\n",
    "rf_params = {'n_estimators': [300,400,500,600]\n",
    "            , 'max_features': ['auto', 'sqrt', 'log2']\n",
    "            , 'max_depth': [20,30,40,50]\n",
    "            , 'criterion':['gini', 'entropy']}\n",
    "xg_params = {'colsample_bytree': [0.5,0.6,0.8,1]\n",
    "             , 'learning_rate': [0.2,0.3,0.4]\n",
    "             , 'max_depth': [3,4,5,6,7]\n",
    "             , 'alpha': [0,0.08,0.01]\n",
    "             , 'gamma': [0,0.004,0.008,0.01]}\n",
    "\n",
    "# initialize various classification models\n",
    "# employ gridsearchcv in tuning parameters\n",
    "knn = KNeighborsClassifier(n_neighbors=5)\n",
    "lr = LogisticRegression(solver='lbfgs',max_iter=8000,C=1000)\n",
    "# lr = GridSearchCV(LogisticRegression(solver='lbfgs',max_iter=6000), lr_params, cv=5)\n",
    "nb = GaussianNB()\n",
    "sv = svm.SVC(probability=True)\n",
    "dt = DecisionTreeClassifier()\n",
    "# rf = GridSearchCV(RandomForestClassifier(random_state=42,n_jobs=-1), rf_params, cv=5, n_jobs=-1)\n",
    "rf = RandomForestClassifier(random_state=42,n_jobs=-1,criterion='entropy',max_depth=30,max_features='auto'\n",
    "                            ,n_estimators=700)\n",
    "xg = XGBClassifier(alpha=0,colsample_bytree=0.5,gamma=0.01,learning_rate=0.3,max_depth=6)\n",
    "# xg = XGBClassifier(alpha=0,colsample_bytree=0.5,gamma=0.01,learning_rate=0.3,max_depth=6)\n",
    "# xg = GridSearchCV(XGBClassifier(), param_grid=xg_params, n_jobs=-1, cv=5)\n",
    "\n",
    "models = [knn, lr, nb, sv, dt, rf, xg]\n",
    "model_desc = ['KNN', 'Logistic Regression', 'Naive Bayes', 'SVM', 'Decision Trees', 'Random Forest','XG Boost']\n",
    "# models = [rf,xg]\n",
    "# model_desc = ['Random Forest','XG Boost']"
   ]
  },
  {
   "cell_type": "code",
   "execution_count": 443,
   "metadata": {},
   "outputs": [],
   "source": [
    "# store model results in dataframe\n",
    "df_results = pd.DataFrame(columns=['Model','Precision','Recall','F1_CV','F1','AUC','Log Loss'])"
   ]
  },
  {
   "cell_type": "code",
   "execution_count": 444,
   "metadata": {},
   "outputs": [
    {
     "name": "stdout",
     "output_type": "stream",
     "text": [
      ">>>>>>>>>>>> Running KNN\n",
      ">>>>>>>>>>>> Running Logistic Regression\n",
      ">>>>>>>>>>>> Running Naive Bayes\n",
      ">>>>>>>>>>>> Running SVM\n"
     ]
    },
    {
     "name": "stderr",
     "output_type": "stream",
     "text": [
      "/home/ubuntu/anaconda3/lib/python3.7/site-packages/sklearn/svm/base.py:193: FutureWarning: The default value of gamma will change from 'auto' to 'scale' in version 0.22 to account better for unscaled features. Set gamma explicitly to 'auto' or 'scale' to avoid this warning.\n",
      "  \"avoid this warning.\", FutureWarning)\n",
      "/home/ubuntu/anaconda3/lib/python3.7/site-packages/sklearn/metrics/classification.py:1437: UndefinedMetricWarning: F-score is ill-defined and being set to 0.0 due to no predicted samples.\n",
      "  'precision', 'predicted', average, warn_for)\n",
      "/home/ubuntu/anaconda3/lib/python3.7/site-packages/sklearn/svm/base.py:193: FutureWarning: The default value of gamma will change from 'auto' to 'scale' in version 0.22 to account better for unscaled features. Set gamma explicitly to 'auto' or 'scale' to avoid this warning.\n",
      "  \"avoid this warning.\", FutureWarning)\n",
      "/home/ubuntu/anaconda3/lib/python3.7/site-packages/sklearn/svm/base.py:193: FutureWarning: The default value of gamma will change from 'auto' to 'scale' in version 0.22 to account better for unscaled features. Set gamma explicitly to 'auto' or 'scale' to avoid this warning.\n",
      "  \"avoid this warning.\", FutureWarning)\n",
      "/home/ubuntu/anaconda3/lib/python3.7/site-packages/sklearn/svm/base.py:193: FutureWarning: The default value of gamma will change from 'auto' to 'scale' in version 0.22 to account better for unscaled features. Set gamma explicitly to 'auto' or 'scale' to avoid this warning.\n",
      "  \"avoid this warning.\", FutureWarning)\n",
      "/home/ubuntu/anaconda3/lib/python3.7/site-packages/sklearn/metrics/classification.py:1437: UndefinedMetricWarning: F-score is ill-defined and being set to 0.0 due to no predicted samples.\n",
      "  'precision', 'predicted', average, warn_for)\n",
      "/home/ubuntu/anaconda3/lib/python3.7/site-packages/sklearn/svm/base.py:193: FutureWarning: The default value of gamma will change from 'auto' to 'scale' in version 0.22 to account better for unscaled features. Set gamma explicitly to 'auto' or 'scale' to avoid this warning.\n",
      "  \"avoid this warning.\", FutureWarning)\n",
      "/home/ubuntu/anaconda3/lib/python3.7/site-packages/sklearn/svm/base.py:193: FutureWarning: The default value of gamma will change from 'auto' to 'scale' in version 0.22 to account better for unscaled features. Set gamma explicitly to 'auto' or 'scale' to avoid this warning.\n",
      "  \"avoid this warning.\", FutureWarning)\n",
      "/home/ubuntu/anaconda3/lib/python3.7/site-packages/sklearn/metrics/classification.py:1437: UndefinedMetricWarning: F-score is ill-defined and being set to 0.0 due to no predicted samples.\n",
      "  'precision', 'predicted', average, warn_for)\n",
      "/home/ubuntu/anaconda3/lib/python3.7/site-packages/sklearn/svm/base.py:193: FutureWarning: The default value of gamma will change from 'auto' to 'scale' in version 0.22 to account better for unscaled features. Set gamma explicitly to 'auto' or 'scale' to avoid this warning.\n",
      "  \"avoid this warning.\", FutureWarning)\n",
      "/home/ubuntu/anaconda3/lib/python3.7/site-packages/sklearn/svm/base.py:193: FutureWarning: The default value of gamma will change from 'auto' to 'scale' in version 0.22 to account better for unscaled features. Set gamma explicitly to 'auto' or 'scale' to avoid this warning.\n",
      "  \"avoid this warning.\", FutureWarning)\n",
      "/home/ubuntu/anaconda3/lib/python3.7/site-packages/sklearn/metrics/classification.py:1437: UndefinedMetricWarning: F-score is ill-defined and being set to 0.0 due to no predicted samples.\n",
      "  'precision', 'predicted', average, warn_for)\n",
      "/home/ubuntu/anaconda3/lib/python3.7/site-packages/sklearn/svm/base.py:193: FutureWarning: The default value of gamma will change from 'auto' to 'scale' in version 0.22 to account better for unscaled features. Set gamma explicitly to 'auto' or 'scale' to avoid this warning.\n",
      "  \"avoid this warning.\", FutureWarning)\n",
      "/home/ubuntu/anaconda3/lib/python3.7/site-packages/sklearn/metrics/classification.py:1437: UndefinedMetricWarning: F-score is ill-defined and being set to 0.0 due to no predicted samples.\n",
      "  'precision', 'predicted', average, warn_for)\n",
      "/home/ubuntu/anaconda3/lib/python3.7/site-packages/sklearn/svm/base.py:193: FutureWarning: The default value of gamma will change from 'auto' to 'scale' in version 0.22 to account better for unscaled features. Set gamma explicitly to 'auto' or 'scale' to avoid this warning.\n",
      "  \"avoid this warning.\", FutureWarning)\n",
      "/home/ubuntu/anaconda3/lib/python3.7/site-packages/sklearn/svm/base.py:193: FutureWarning: The default value of gamma will change from 'auto' to 'scale' in version 0.22 to account better for unscaled features. Set gamma explicitly to 'auto' or 'scale' to avoid this warning.\n",
      "  \"avoid this warning.\", FutureWarning)\n"
     ]
    },
    {
     "name": "stdout",
     "output_type": "stream",
     "text": [
      ">>>>>>>>>>>> Running Decision Trees\n",
      ">>>>>>>>>>>> Running Random Forest\n",
      ">>>>>>>>>>>> Running XG Boost\n"
     ]
    },
    {
     "data": {
      "text/html": [
       "<div>\n",
       "<style scoped>\n",
       "    .dataframe tbody tr th:only-of-type {\n",
       "        vertical-align: middle;\n",
       "    }\n",
       "\n",
       "    .dataframe tbody tr th {\n",
       "        vertical-align: top;\n",
       "    }\n",
       "\n",
       "    .dataframe thead th {\n",
       "        text-align: right;\n",
       "    }\n",
       "</style>\n",
       "<table border=\"1\" class=\"dataframe\">\n",
       "  <thead>\n",
       "    <tr style=\"text-align: right;\">\n",
       "      <th></th>\n",
       "      <th>Model</th>\n",
       "      <th>Precision</th>\n",
       "      <th>Recall</th>\n",
       "      <th>F1_CV</th>\n",
       "      <th>F1</th>\n",
       "      <th>AUC</th>\n",
       "      <th>Log Loss</th>\n",
       "    </tr>\n",
       "  </thead>\n",
       "  <tbody>\n",
       "    <tr>\n",
       "      <th>0</th>\n",
       "      <td>KNN</td>\n",
       "      <td>0.380952</td>\n",
       "      <td>0.090909</td>\n",
       "      <td>0.134941</td>\n",
       "      <td>0.146789</td>\n",
       "      <td>0.655326</td>\n",
       "      <td>1.473412</td>\n",
       "    </tr>\n",
       "    <tr>\n",
       "      <th>1</th>\n",
       "      <td>Logistic Regression</td>\n",
       "      <td>0.428571</td>\n",
       "      <td>0.034091</td>\n",
       "      <td>0.100051</td>\n",
       "      <td>0.063158</td>\n",
       "      <td>0.825640</td>\n",
       "      <td>0.286630</td>\n",
       "    </tr>\n",
       "    <tr>\n",
       "      <th>2</th>\n",
       "      <td>Naive Bayes</td>\n",
       "      <td>0.074653</td>\n",
       "      <td>0.977273</td>\n",
       "      <td>0.119981</td>\n",
       "      <td>0.138710</td>\n",
       "      <td>0.525127</td>\n",
       "      <td>6.189614</td>\n",
       "    </tr>\n",
       "    <tr>\n",
       "      <th>3</th>\n",
       "      <td>SVM</td>\n",
       "      <td>0.000000</td>\n",
       "      <td>0.000000</td>\n",
       "      <td>0.011775</td>\n",
       "      <td>0.000000</td>\n",
       "      <td>0.613699</td>\n",
       "      <td>0.266014</td>\n",
       "    </tr>\n",
       "    <tr>\n",
       "      <th>4</th>\n",
       "      <td>Decision Trees</td>\n",
       "      <td>0.619718</td>\n",
       "      <td>0.500000</td>\n",
       "      <td>0.560542</td>\n",
       "      <td>0.553459</td>\n",
       "      <td>0.737660</td>\n",
       "      <td>2.074664</td>\n",
       "    </tr>\n",
       "    <tr>\n",
       "      <th>5</th>\n",
       "      <td>Random Forest</td>\n",
       "      <td>0.847826</td>\n",
       "      <td>0.443182</td>\n",
       "      <td>0.611160</td>\n",
       "      <td>0.582090</td>\n",
       "      <td>0.922018</td>\n",
       "      <td>0.145461</td>\n",
       "    </tr>\n",
       "    <tr>\n",
       "      <th>6</th>\n",
       "      <td>XG Boost</td>\n",
       "      <td>0.779661</td>\n",
       "      <td>0.522727</td>\n",
       "      <td>0.669825</td>\n",
       "      <td>0.625850</td>\n",
       "      <td>0.931226</td>\n",
       "      <td>0.174361</td>\n",
       "    </tr>\n",
       "  </tbody>\n",
       "</table>\n",
       "</div>"
      ],
      "text/plain": [
       "                 Model  Precision    Recall     F1_CV        F1       AUC  \\\n",
       "0                  KNN   0.380952  0.090909  0.134941  0.146789  0.655326   \n",
       "1  Logistic Regression   0.428571  0.034091  0.100051  0.063158  0.825640   \n",
       "2          Naive Bayes   0.074653  0.977273  0.119981  0.138710  0.525127   \n",
       "3                  SVM   0.000000  0.000000  0.011775  0.000000  0.613699   \n",
       "4       Decision Trees   0.619718  0.500000  0.560542  0.553459  0.737660   \n",
       "5        Random Forest   0.847826  0.443182  0.611160  0.582090  0.922018   \n",
       "6             XG Boost   0.779661  0.522727  0.669825  0.625850  0.931226   \n",
       "\n",
       "   Log Loss  \n",
       "0  1.473412  \n",
       "1  0.286630  \n",
       "2  6.189614  \n",
       "3  0.266014  \n",
       "4  2.074664  \n",
       "5  0.145461  \n",
       "6  0.174361  "
      ]
     },
     "execution_count": 444,
     "metadata": {},
     "output_type": "execute_result"
    }
   ],
   "source": [
    "model_confusions = []\n",
    "model_positives = []\n",
    "feature_importance_rf = []\n",
    "feature_importance_xg = []\n",
    "\n",
    "for index, model in enumerate(models):\n",
    "    print(f'>>>>>>>>>>>> Running {model_desc[index]}')\n",
    "    \n",
    "    # KNN will use the scaled dataset, while the others will use the unscaled one\n",
    "    X_train = (X_train_scaled if model_desc[index] == 'KNN' else X_train)\n",
    "    X_test = (X_test_scaled if model_desc[index] == 'KNN' else X_test)\n",
    "    y_train = (y_train_scaled if model_desc[index] == 'KNN' else y_train)\n",
    "\n",
    "#     if model_desc[index] == 'XG Boost':\n",
    "#         X_test = X_test.values\n",
    "    \n",
    "    # get f1 score on training set\n",
    "    f1_cv = np.mean(cross_val_score(model, X_train, y_train.values.ravel(), cv=10, scoring='f1'))\n",
    "    \n",
    "    # fit model\n",
    "    model.fit(X_train, y_train.values.ravel())\n",
    "    \n",
    "    if model_desc[index] == 'Random Forest':\n",
    "        feature_importance_rf = model.feature_importances_\n",
    "    if model_desc[index] == 'XG Boost':\n",
    "        feature_importance_xg = model.feature_importances_\n",
    "    \n",
    "    # predict\n",
    "    model_predictions = model.predict(X_test)\n",
    "    #for threshold in np.arange(0.1,1.0,0.1):\n",
    "    #    model_predictions = (model_probabilities[:,1] >= threshold).astype('int')\n",
    "    model_probabilities = model.predict_proba(X_test)\n",
    "\n",
    "    model_confusions.append(confusion_matrix(y_test, model_predictions))\n",
    "    model_positives.append(roc_curve(y_test, model_probabilities[:,1]))\n",
    "    fpr, tpr, thresholds = roc_curve(y_test, model_probabilities[:,1])\n",
    "    \n",
    "#     print(f'Best parameters: {model.best_params_}')\n",
    "    \n",
    "    df_results.loc[len(df_results)] = [model_desc[index]\n",
    "                                      , precision_score(y_test, model_predictions)\n",
    "                                      , recall_score(y_test, model_predictions)\n",
    "                                      , f1_cv\n",
    "                                      , f1_score(y_test, model_predictions)\n",
    "                                      , roc_auc_score(y_test, model_probabilities[:,1])\n",
    "                                      , log_loss(y_test, model_probabilities)]\n",
    "\n",
    "df_results"
   ]
  },
  {
   "cell_type": "code",
   "execution_count": 445,
   "metadata": {},
   "outputs": [
    {
     "data": {
      "text/plain": [
       "<matplotlib.axes._subplots.AxesSubplot at 0x7f56dc7134e0>"
      ]
     },
     "execution_count": 445,
     "metadata": {},
     "output_type": "execute_result"
    },
    {
     "data": {
      "image/png": "[encoded data removed]",
      "text/plain": [
       "<Figure size 1080x720 with 2 Axes>"
      ]
     },
     "metadata": {
      "needs_background": "light"
     },
     "output_type": "display_data"
    }
   ],
   "source": [
    "plt.figure(figsize=(15,10))\n",
    "sns.heatmap(data[include_in_model].corr(),cmap='seismic',annot=True,fmt='.1g')"
   ]
  },
  {
   "cell_type": "code",
   "execution_count": 446,
   "metadata": {},
   "outputs": [],
   "source": [
    "# exclude_from_model = ['']"
   ]
  },
  {
   "cell_type": "code",
   "execution_count": 447,
   "metadata": {},
   "outputs": [],
   "source": [
    "# lr.coef_"
   ]
  },
  {
   "cell_type": "code",
   "execution_count": 448,
   "metadata": {},
   "outputs": [],
   "source": [
    "# feature_importance_rf\n",
    "features_rf = pd.DataFrame(feature_importance_rf,index=X_train.columns\n",
    "             , columns=['importance']).sort_values('importance',ascending=False).reset_index().head(20)\n",
    "\n",
    "# feature_importance_xg\n",
    "features_xg = pd.DataFrame(feature_importance_xg,index=X_train.columns\n",
    "             , columns=['importance']).sort_values('importance',ascending=False).reset_index().head(20)"
   ]
  },
  {
   "cell_type": "code",
   "execution_count": 449,
   "metadata": {},
   "outputs": [
    {
     "data": {
      "text/plain": [
       "['X56',\n",
       " 'X40',\n",
       " 'X55',\n",
       " 'X27',\n",
       " 'X13',\n",
       " 'X26',\n",
       " 'X39',\n",
       " 'X16',\n",
       " 'X34',\n",
       " 'X35',\n",
       " 'X41',\n",
       " 'X38',\n",
       " 'X46',\n",
       " 'X21']"
      ]
     },
     "execution_count": 449,
     "metadata": {},
     "output_type": "execute_result"
    }
   ],
   "source": [
    "list(set(features_rf.iloc[:,0]) & set(features_xg.iloc[:,0]))"
   ]
  },
  {
   "cell_type": "code",
   "execution_count": 450,
   "metadata": {},
   "outputs": [
    {
     "data": {
      "text/html": [
       "<div>\n",
       "<style scoped>\n",
       "    .dataframe tbody tr th:only-of-type {\n",
       "        vertical-align: middle;\n",
       "    }\n",
       "\n",
       "    .dataframe tbody tr th {\n",
       "        vertical-align: top;\n",
       "    }\n",
       "\n",
       "    .dataframe thead th {\n",
       "        text-align: right;\n",
       "    }\n",
       "</style>\n",
       "<table border=\"1\" class=\"dataframe\">\n",
       "  <thead>\n",
       "    <tr style=\"text-align: right;\">\n",
       "      <th></th>\n",
       "      <th>index</th>\n",
       "      <th>importance</th>\n",
       "    </tr>\n",
       "  </thead>\n",
       "  <tbody>\n",
       "    <tr>\n",
       "      <th>0</th>\n",
       "      <td>X21</td>\n",
       "      <td>0.135859</td>\n",
       "    </tr>\n",
       "    <tr>\n",
       "      <th>1</th>\n",
       "      <td>X35</td>\n",
       "      <td>0.113583</td>\n",
       "    </tr>\n",
       "    <tr>\n",
       "      <th>2</th>\n",
       "      <td>X34</td>\n",
       "      <td>0.094621</td>\n",
       "    </tr>\n",
       "    <tr>\n",
       "      <th>3</th>\n",
       "      <td>X27</td>\n",
       "      <td>0.092758</td>\n",
       "    </tr>\n",
       "    <tr>\n",
       "      <th>4</th>\n",
       "      <td>X41</td>\n",
       "      <td>0.089286</td>\n",
       "    </tr>\n",
       "    <tr>\n",
       "      <th>5</th>\n",
       "      <td>X39</td>\n",
       "      <td>0.066126</td>\n",
       "    </tr>\n",
       "    <tr>\n",
       "      <th>6</th>\n",
       "      <td>X56</td>\n",
       "      <td>0.064613</td>\n",
       "    </tr>\n",
       "    <tr>\n",
       "      <th>7</th>\n",
       "      <td>X46</td>\n",
       "      <td>0.063364</td>\n",
       "    </tr>\n",
       "    <tr>\n",
       "      <th>8</th>\n",
       "      <td>X55</td>\n",
       "      <td>0.058673</td>\n",
       "    </tr>\n",
       "    <tr>\n",
       "      <th>9</th>\n",
       "      <td>X13</td>\n",
       "      <td>0.051255</td>\n",
       "    </tr>\n",
       "    <tr>\n",
       "      <th>10</th>\n",
       "      <td>X26</td>\n",
       "      <td>0.048952</td>\n",
       "    </tr>\n",
       "    <tr>\n",
       "      <th>11</th>\n",
       "      <td>X40</td>\n",
       "      <td>0.042891</td>\n",
       "    </tr>\n",
       "    <tr>\n",
       "      <th>12</th>\n",
       "      <td>X38</td>\n",
       "      <td>0.039427</td>\n",
       "    </tr>\n",
       "    <tr>\n",
       "      <th>13</th>\n",
       "      <td>X16</td>\n",
       "      <td>0.038593</td>\n",
       "    </tr>\n",
       "  </tbody>\n",
       "</table>\n",
       "</div>"
      ],
      "text/plain": [
       "   index  importance\n",
       "0    X21    0.135859\n",
       "1    X35    0.113583\n",
       "2    X34    0.094621\n",
       "3    X27    0.092758\n",
       "4    X41    0.089286\n",
       "5    X39    0.066126\n",
       "6    X56    0.064613\n",
       "7    X46    0.063364\n",
       "8    X55    0.058673\n",
       "9    X13    0.051255\n",
       "10   X26    0.048952\n",
       "11   X40    0.042891\n",
       "12   X38    0.039427\n",
       "13   X16    0.038593"
      ]
     },
     "execution_count": 450,
     "metadata": {},
     "output_type": "execute_result"
    }
   ],
   "source": [
    "features_xg"
   ]
  },
  {
   "cell_type": "code",
   "execution_count": null,
   "metadata": {},
   "outputs": [],
   "source": []
  }
 ],
 "metadata": {
  "kernelspec": {
   "display_name": "Python 3",
   "language": "python",
   "name": "python3"
  },
  "language_info": {
   "codemirror_mode": {
    "name": "ipython",
    "version": 3
   },
   "file_extension": ".py",
   "mimetype": "text/x-python",
   "name": "python",
   "nbconvert_exporter": "python",
   "pygments_lexer": "ipython3",
   "version": "3.7.3"
  }
 },
 "nbformat": 4,
 "nbformat_minor": 2
}
